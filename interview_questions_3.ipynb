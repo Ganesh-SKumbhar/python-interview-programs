{
 "cells": [
  {
   "cell_type": "code",
   "execution_count": 1,
   "id": "8c99b3a0",
   "metadata": {},
   "outputs": [
    {
     "name": "stdout",
     "output_type": "stream",
     "text": [
      "Enter two number separated by space:2 11\n",
      "2\n",
      "3\n",
      "5\n",
      "7\n",
      "11\n"
     ]
    }
   ],
   "source": [
    "# 1. Python Program to print Prime Number in a given range.\n",
    "\n",
    "def get_prime_numbers(num1,num2):\n",
    "    for n in range(num1,num2+1):\n",
    "        if n > 1:\n",
    "            for i in range(2,n):\n",
    "                if n%i == 0:\n",
    "                    break\n",
    "            else:\n",
    "                print(n)\n",
    "\n",
    "\n",
    "n1,n2 = map(int,input('Enter two number separated by space:').split())\n",
    "\n",
    "get_prime_numbers(n1,n2)"
   ]
  },
  {
   "cell_type": "code",
   "execution_count": 2,
   "id": "ffd1dd0b",
   "metadata": {},
   "outputs": [
    {
     "name": "stdout",
     "output_type": "stream",
     "text": [
      "Enter 3 numbers separated by space: 23 56 89\n",
      "Smallest number is : 23\n"
     ]
    }
   ],
   "source": [
    "# 2. Python Program to find Smallest number among three.\n",
    "\n",
    "n1,n2,n3 = map(int,input('Enter 3 numbers separated by space: ').split())\n",
    "print('Smallest number is :', min(n1,n2,n3))"
   ]
  },
  {
   "cell_type": "code",
   "execution_count": 3,
   "id": "cbf30aeb",
   "metadata": {},
   "outputs": [
    {
     "name": "stdout",
     "output_type": "stream",
     "text": [
      "Enter any number and power : 5 3\n",
      "5 raised to the power 3 is : 125\n"
     ]
    }
   ],
   "source": [
    "# 3. Python program to calculate the power using the POW method.\n",
    "\n",
    "n1,p = map(int,input('Enter any number and power : ').split())\n",
    "\n",
    "print(f\"{n1} raised to the power {p} is : {pow(n1,p)}\")\n"
   ]
  },
  {
   "cell_type": "code",
   "execution_count": 4,
   "id": "74d68543",
   "metadata": {},
   "outputs": [
    {
     "name": "stdout",
     "output_type": "stream",
     "text": [
      "Enter any number : 5\n",
      "Enter the power : 4\n",
      "4th power of 5 is : 625\n"
     ]
    }
   ],
   "source": [
    "# 4. Python Program to calculate the power without using POW function.(using for loop).\n",
    "\n",
    "n1 = int(input('Enter any number : '))\n",
    "p = int(input('Enter the power : '))\n",
    "\n",
    "power = 1\n",
    "for i in range(p):\n",
    "    power = power * n1\n",
    "\n",
    "print(f'{p}th power of {n1} is : {power}')"
   ]
  },
  {
   "cell_type": "code",
   "execution_count": 6,
   "id": "8da7d39e",
   "metadata": {},
   "outputs": [
    {
     "name": "stdout",
     "output_type": "stream",
     "text": [
      "Enter any number : 3\n",
      "Enter the power : 5\n",
      "5th power of 3 is : 243\n"
     ]
    }
   ],
   "source": [
    "# 5. Python Program to calculate the power without using POW function.(using while loop).\n",
    "\n",
    "n1 = int(input('Enter any number : '))\n",
    "p = int(input('Enter the power : '))\n",
    "\n",
    "power = i = 1\n",
    "while i <= p:\n",
    "    power = power * n1\n",
    "    i+=1\n",
    "\n",
    "print(f'{p}th power of {n1} is : {power}')   "
   ]
  },
  {
   "cell_type": "code",
   "execution_count": 7,
   "id": "cf2a8bd8",
   "metadata": {},
   "outputs": [
    {
     "name": "stdout",
     "output_type": "stream",
     "text": [
      "Enter any number to gets its square : 15\n",
      "Square of 15 is : 225\n"
     ]
    }
   ],
   "source": [
    "# 6. Python Program to calculate the square of a given number.\n",
    "\n",
    "n2 = int(input('Enter any number to gets its square : '))\n",
    "print(f'Square of {n2} is : {n2**2}')"
   ]
  },
  {
   "cell_type": "code",
   "execution_count": 8,
   "id": "85d94f8f",
   "metadata": {},
   "outputs": [
    {
     "name": "stdout",
     "output_type": "stream",
     "text": [
      "Enter any number to gets its cube : 6\n",
      "Cube of 6 is : 216\n"
     ]
    }
   ],
   "source": [
    "# 7. Python Program to calculate the cube of a given number.\n",
    "\n",
    "n2 = int(input('Enter any number to gets its cube : '))\n",
    "print(f'Cube of {n2} is : {n2**3}')"
   ]
  },
  {
   "cell_type": "code",
   "execution_count": 9,
   "id": "a2584e56",
   "metadata": {},
   "outputs": [
    {
     "name": "stdout",
     "output_type": "stream",
     "text": [
      "Enter any number to gets its squareroot : 25\n",
      "Square root of 25 is : 5.0\n"
     ]
    }
   ],
   "source": [
    "# 8. Python Program to calculate the square root of a given number.\n",
    "\n",
    "n2 = int(input('Enter any number to gets its squareroot : '))\n",
    "print(f'Square root of {n2} is : {n2**(1/2)}')"
   ]
  },
  {
   "cell_type": "code",
   "execution_count": 10,
   "id": "5899f416",
   "metadata": {},
   "outputs": [
    {
     "name": "stdout",
     "output_type": "stream",
     "text": [
      "Enter number1 :54\n",
      "Enter number2 :24\n",
      "LCM is : 216\n"
     ]
    }
   ],
   "source": [
    "# 9. Python program to calculate LCM of given two numbers.\n",
    "def get_lcm(n1,n2):\n",
    "    if n1 > n2:\n",
    "        large = n1\n",
    "    else:\n",
    "        large = n2\n",
    "    while(True):\n",
    "        if (large%n1 == 0) and (large%n2 == 0):\n",
    "            lcm = large\n",
    "            break\n",
    "        large += 1\n",
    "    return lcm\n",
    "    \n",
    "n1 = int(input('Enter number1 :'))\n",
    "n2 = int(input('Enter number2 :'))\n",
    "print('LCM is :', get_lcm(n1,n2))"
   ]
  }
 ],
 "metadata": {
  "kernelspec": {
   "display_name": "Python 3 (ipykernel)",
   "language": "python",
   "name": "python3"
  },
  "language_info": {
   "codemirror_mode": {
    "name": "ipython",
    "version": 3
   },
   "file_extension": ".py",
   "mimetype": "text/x-python",
   "name": "python",
   "nbconvert_exporter": "python",
   "pygments_lexer": "ipython3",
   "version": "3.9.12"
  }
 },
 "nbformat": 4,
 "nbformat_minor": 5
}
