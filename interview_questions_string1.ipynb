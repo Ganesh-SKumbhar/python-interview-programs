{
 "cells": [
  {
   "cell_type": "code",
   "execution_count": 1,
   "id": "613aa763",
   "metadata": {},
   "outputs": [
    {
     "name": "stdout",
     "output_type": "stream",
     "text": [
      "Enter any string :- abcdef\n",
      "Enter character to remove from string: d\n",
      "abcef\n"
     ]
    }
   ],
   "source": [
    "# 1. Python program to remove given character from String.\n",
    "\n",
    "str1 = input('Enter any string :- ')\n",
    "char = input('Enter character to remove from string: ')\n",
    "\n",
    "if char in str1:\n",
    "    print(str1.replace(char,''))\n",
    "else:\n",
    "    print('Character not present in string')"
   ]
  },
  {
   "cell_type": "code",
   "execution_count": 4,
   "id": "60e37eb3",
   "metadata": {},
   "outputs": [
    {
     "name": "stdout",
     "output_type": "stream",
     "text": [
      "Enter any string :- take care\n",
      "Enter character to count its occurence in string: a\n",
      "2\n"
     ]
    }
   ],
   "source": [
    "# 2. Python Program to count occurrence of a given characters in string.\n",
    "\n",
    "str1 = input('Enter any string :- ')\n",
    "char = input('Enter character to count its occurence in string: ')\n",
    "\n",
    "if char in str1:\n",
    "    print(str1.count(char))\n",
    "else:\n",
    "    print('Character not present in string')"
   ]
  },
  {
   "cell_type": "code",
   "execution_count": 8,
   "id": "39f2288d",
   "metadata": {},
   "outputs": [
    {
     "name": "stdout",
     "output_type": "stream",
     "text": [
      "Enter string 1 : bat\n",
      "Enter string 2 : tab\n",
      "Strings are Anagram\n"
     ]
    }
   ],
   "source": [
    "# 3. Python Program to check if two Strings are Anagram.\n",
    "\n",
    "str1 = input('Enter string 1 : ')\n",
    "str2 = input('Enter string 2 : ')\n",
    "\n",
    "if sorted(str1) == sorted(str2):\n",
    "    print('Strings are Anagram')\n",
    "else:\n",
    "    print('Strings are not Anagram')"
   ]
  },
  {
   "cell_type": "code",
   "execution_count": 12,
   "id": "69e8bd4d",
   "metadata": {},
   "outputs": [
    {
     "name": "stdout",
     "output_type": "stream",
     "text": [
      "Enter string : madam\n",
      "String is palindrome\n"
     ]
    }
   ],
   "source": [
    "# 4. Python program to check a String is palindrome or not.\n",
    "\n",
    "str1 = input('Enter string : ')\n",
    "\n",
    "if str1 == str1[::-1]:\n",
    "    print('String is palindrome')\n",
    "else:\n",
    "    print('String is not palindrome')"
   ]
  },
  {
   "cell_type": "code",
   "execution_count": 13,
   "id": "4f9ca0b4",
   "metadata": {},
   "outputs": [
    {
     "name": "stdout",
     "output_type": "stream",
     "text": [
      "Enter any character to check whether it is vowel or consonant: a\n",
      "Character is Vowel\n"
     ]
    }
   ],
   "source": [
    "# 5. Python program to check given character is vowel or consonant.\n",
    "\n",
    "char = input('Enter any character to check whether it is vowel or consonant: ')\n",
    "if char in 'aieouAEIOU':\n",
    "    print('Character is Vowel')\n",
    "else:\n",
    "    print('Character is Consonant')"
   ]
  },
  {
   "cell_type": "code",
   "execution_count": null,
   "id": "6290e5e8",
   "metadata": {},
   "outputs": [],
   "source": [
    "# 6. Python program to check given character is digit or not.\n",
    "\n",
    "char = input('Enter any character to check whether it is digit or not.: ')\n",
    "if char.isdigit():\n",
    "    print('Character is digit')\n",
    "else:\n",
    "    print('Character is not digit')"
   ]
  },
  {
   "cell_type": "code",
   "execution_count": 7,
   "id": "fe386261",
   "metadata": {},
   "outputs": [],
   "source": [
    "# 7. Python program to check given character is digit or not using isdigit() method.\n",
    "\n",
    "char = input('Enter any character to check whether it is digit or not.: ')\n",
    "if char in '0123456789':\n",
    "    print('Character is digit')\n",
    "else:\n",
    "    print('Character is not digit')"
   ]
  },
  {
   "cell_type": "code",
   "execution_count": 14,
   "id": "f4cf3a2c",
   "metadata": {},
   "outputs": [
    {
     "name": "stdout",
     "output_type": "stream",
     "text": [
      "Enter any string: i am ganesh\n",
      "Enter character to replace space: @\n",
      "i@am@ganesh\n"
     ]
    }
   ],
   "source": [
    "# 8. Python program to replace the string space with a given character.\n",
    "\n",
    "str1 = input('Enter any string: ')\n",
    "char = input('Enter character to replace space: ')\n",
    "\n",
    "print(str1.replace(' ', char))"
   ]
  },
  {
   "cell_type": "code",
   "execution_count": 31,
   "id": "42fe3eb7",
   "metadata": {},
   "outputs": [
    {
     "name": "stdout",
     "output_type": "stream",
     "text": [
      "Enter any string: i am ganesh\n",
      "Enter character to replace space: @\n",
      "i@am@ganesh\n"
     ]
    }
   ],
   "source": [
    "# 9. Python program to replace the string space with a given character using replace() method.\n",
    "\n",
    "str1 = input('Enter any string: ')\n",
    "char = input('Enter character to replace space: ')\n",
    "str2 = ''\n",
    "for i in range(len(str1)):\n",
    "    if str1[i].isspace():\n",
    "        str2 += char\n",
    "    else:\n",
    "        str2 += str1[i]\n",
    "print(str2)"
   ]
  },
  {
   "cell_type": "code",
   "execution_count": 22,
   "id": "a8b44526",
   "metadata": {},
   "outputs": [
    {
     "name": "stdout",
     "output_type": "stream",
     "text": [
      "Enter string: GaneshKumBhar\n",
      "GANESHKUMBHAR\n"
     ]
    }
   ],
   "source": [
    "# 10. Python program to convert lowercase char to uppercase of string.\n",
    "\n",
    "str1 = input('Enter string: ')\n",
    "str2 = ''\n",
    "for i in str1:\n",
    "    if i.islower():\n",
    "        str2+=i.upper()\n",
    "    else:\n",
    "        str2+=i\n",
    "print(str2)"
   ]
  },
  {
   "cell_type": "code",
   "execution_count": 23,
   "id": "189e0ce9",
   "metadata": {},
   "outputs": [
    {
     "name": "stdout",
     "output_type": "stream",
     "text": [
      "Enter string: Aman Imarwal\n",
      "AmAn ImArwAl\n"
     ]
    }
   ],
   "source": [
    "# 11. Python program to convert lowercase vowel to uppercase in string.\n",
    "\n",
    "str1 = input('Enter string: ')\n",
    "str2 = ''\n",
    "\n",
    "for i in str1:\n",
    "    if i.islower() and i in 'aieou':\n",
    "        str2 += i.upper()\n",
    "    else:\n",
    "        str2 += i\n",
    "print(str2)"
   ]
  },
  {
   "cell_type": "code",
   "execution_count": 24,
   "id": "5c08c45b",
   "metadata": {},
   "outputs": [
    {
     "name": "stdout",
     "output_type": "stream",
     "text": [
      "Enter string: sad man\n",
      "sd mn\n"
     ]
    }
   ],
   "source": [
    "# 12. Python program to delete vowels in a given string.\n",
    "\n",
    "str1 = input('Enter string: ')\n",
    "str2 = ''\n",
    "for i in str1:\n",
    "    if i in 'aeiouAEIOU':\n",
    "        str2 += ''\n",
    "    else:\n",
    "        str2 += i\n",
    "print(str2)"
   ]
  },
  {
   "cell_type": "code",
   "execution_count": 26,
   "id": "e7ccbfe6",
   "metadata": {},
   "outputs": [
    {
     "name": "stdout",
     "output_type": "stream",
     "text": [
      "Enter string: he is good boy\n",
      "Count of vowels:  5 \n",
      "Count of consonants :  6\n"
     ]
    }
   ],
   "source": [
    "# 13. Python program to count Occurrence Of Vowels & Consonants in a String.\n",
    "\n",
    "str1 = input('Enter string: ')\n",
    "vowels_count = 0\n",
    "consonant_count = 0\n",
    "for i in str1:\n",
    "    if i in 'aieouAEIOU':\n",
    "        vowels_count += 1\n",
    "    else:\n",
    "        if i.isspace():\n",
    "            continue\n",
    "        else:\n",
    "            consonant_count += 1\n",
    "            \n",
    "print('Count of vowels: ', vowels_count, '\\nCount of consonants : ', consonant_count)\n"
   ]
  },
  {
   "cell_type": "code",
   "execution_count": null,
   "id": "9f2cafae",
   "metadata": {},
   "outputs": [],
   "source": []
  }
 ],
 "metadata": {
  "kernelspec": {
   "display_name": "Python 3 (ipykernel)",
   "language": "python",
   "name": "python3"
  },
  "language_info": {
   "codemirror_mode": {
    "name": "ipython",
    "version": 3
   },
   "file_extension": ".py",
   "mimetype": "text/x-python",
   "name": "python",
   "nbconvert_exporter": "python",
   "pygments_lexer": "ipython3",
   "version": "3.9.12"
  }
 },
 "nbformat": 4,
 "nbformat_minor": 5
}
