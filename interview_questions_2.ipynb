{
 "cells": [
  {
   "cell_type": "code",
   "execution_count": 1,
   "id": "76037442",
   "metadata": {},
   "outputs": [
    {
     "name": "stdout",
     "output_type": "stream",
     "text": [
      "Enter n1 : 12\n",
      "Enter n2 : 34\n",
      "n1 = 34 n2 = 12\n"
     ]
    }
   ],
   "source": [
    "# 1. Write a program in Python to swap two numbers without using third variable?\n",
    "def swap_numbers(n1,n2):\n",
    "    n2,n1 = n1,n2\n",
    "    print(f\"n1 = {n1} n2 = {n2}\")\n",
    "\n",
    "n1 = int(input('Enter n1 : '))\n",
    "n2 = int(input('Enter n2 : '))\n",
    "\n",
    "swap_numbers(n1,n2)"
   ]
  },
  {
   "cell_type": "code",
   "execution_count": 2,
   "id": "92dfddc4",
   "metadata": {},
   "outputs": [
    {
     "name": "stdout",
     "output_type": "stream",
     "text": [
      "Enter n1 : 23\n",
      "Enter n2 : 45\n",
      "n1 = 45 n2 = 23\n"
     ]
    }
   ],
   "source": [
    "# 2. Write a program in Python to swap two numbers using third variable?\n",
    "def swap_numbers(n1,n2):\n",
    "    temp = n1\n",
    "    n1 = n2\n",
    "    n2 = temp\n",
    "    \n",
    "    print(f\"n1 = {n1} n2 = {n2}\")\n",
    "\n",
    "n1 = int(input('Enter n1 : '))\n",
    "n2 = int(input('Enter n2 : '))\n",
    "\n",
    "swap_numbers(n1,n2)"
   ]
  },
  {
   "cell_type": "code",
   "execution_count": 3,
   "id": "4e286fa2",
   "metadata": {},
   "outputs": [
    {
     "name": "stdout",
     "output_type": "stream",
     "text": [
      "Enter any Number to get its prime factors: 345\n",
      "Prime Factors of Given Numbers are:  [3, 5, 23]\n"
     ]
    }
   ],
   "source": [
    "# 3. Write a program in Python to find prime factors of a given integer.\n",
    "def get_prime_factors(num):\n",
    "    prime_factors = []\n",
    "    while num > 0:\n",
    "        for i in range(2,(num//2)+1):\n",
    "            if num%i == 0:\n",
    "                prime_factors.append(i)\n",
    "                num = num//i\n",
    "                break\n",
    "            else:\n",
    "                continue\n",
    "        else:\n",
    "            prime_factors.append(num)\n",
    "            break\n",
    "    return prime_factors\n",
    "\n",
    "print('Prime Factors of Given Numbers are: ', get_prime_factors(int(input('Enter any Number to get its prime factors: '))))"
   ]
  },
  {
   "cell_type": "code",
   "execution_count": 4,
   "id": "ea5e34cb",
   "metadata": {},
   "outputs": [
    {
     "name": "stdout",
     "output_type": "stream",
     "text": [
      "Enter number 1: 5\n",
      "Enter number 2: 7\n",
      "Addition without Arithmetic operator is :  12\n"
     ]
    }
   ],
   "source": [
    "# 4. Write a program in Python to add two integer without using arithmetic operator?\n",
    "num1 = int(input('Enter number 1: '))\n",
    "num2 = int(input('Enter number 2: '))\n",
    "\n",
    "def add_without_operator(num1, num2):\n",
    "    while(num2 != 0):    # iterate till no carry bit is left\n",
    "        c = num1 & num2     # bitwise and\n",
    "        num1 = num1 ^ num2     # bitwise XOR\n",
    "        num2 = c << 1    # left shifiting by 1 so that adding it to x gives the sum\n",
    "    return num1\n",
    "\n",
    "print('Addition without Arithmetic operator is : ', add_without_operator(num1,num2))"
   ]
  },
  {
   "cell_type": "code",
   "execution_count": 5,
   "id": "0cbd4b38",
   "metadata": {},
   "outputs": [
    {
     "name": "stdout",
     "output_type": "stream",
     "text": [
      "Enter any number to check whether it is perfect or not : 28\n",
      "Number 28 is perfect.\n"
     ]
    }
   ],
   "source": [
    "# 5. Write a program in Python to find given number is perfect or not?\n",
    "# perfect number is any number whose factor addition sum is that number\n",
    "\n",
    "num = int(input('Enter any number to check whether it is perfect or not : '))\n",
    "addition = 0\n",
    "\n",
    "for i in range(1,num):\n",
    "    if num%i == 0:\n",
    "        addition += i\n",
    "if addition == num:\n",
    "    print(f'Number {num} is perfect.')\n",
    "else:\n",
    "    print('Number is not perfect.')\n"
   ]
  },
  {
   "cell_type": "code",
   "execution_count": 6,
   "id": "305c1b2f",
   "metadata": {},
   "outputs": [
    {
     "name": "stdout",
     "output_type": "stream",
     "text": [
      "Average of number : 56.6\n"
     ]
    }
   ],
   "source": [
    "# 6. Python Program to find the Average of numbers with explanations.\n",
    "numbers = [12,53,87,33,98]\n",
    "print('Average of number :', sum(numbers)/len(numbers))"
   ]
  },
  {
   "cell_type": "code",
   "execution_count": 7,
   "id": "fe4d1432",
   "metadata": {},
   "outputs": [
    {
     "name": "stdout",
     "output_type": "stream",
     "text": [
      "Enter number to get its factorial: 6\n",
      "Factorial of given number is :720\n"
     ]
    }
   ],
   "source": [
    "# 7. Python Program to calculate factorial using iterative method.\n",
    "def factorial(num):\n",
    "    fact = 1\n",
    "    for i in range(1,num+1):\n",
    "        fact *= i\n",
    "    return fact\n",
    "\n",
    "print(f\"Factorial of given number is :{factorial(int(input('Enter number to get its factorial: ')))}\")"
   ]
  },
  {
   "cell_type": "code",
   "execution_count": 8,
   "id": "693e0257",
   "metadata": {},
   "outputs": [
    {
     "name": "stdout",
     "output_type": "stream",
     "text": [
      "Enter number to get factorial: 5\n",
      "Factorial is of 5 is 120\n"
     ]
    }
   ],
   "source": [
    "# 8. Python Program to calculate factorial using recursion.\n",
    "def factorial(num):\n",
    "    if num == 1:\n",
    "        return 1\n",
    "    else:\n",
    "        return num * factorial(num-1)\n",
    "\n",
    "num = int(input('Enter number to get factorial: '))\n",
    "if num < 0:\n",
    "    print('Number entered is negative')\n",
    "elif num == 0:\n",
    "    print(f'Factorial is of 0 is 1')\n",
    "else:\n",
    "    print(f'Factorial is of {num} is {factorial(num)}')"
   ]
  },
  {
   "cell_type": "code",
   "execution_count": 9,
   "id": "cbd866b3",
   "metadata": {},
   "outputs": [
    {
     "name": "stdout",
     "output_type": "stream",
     "text": [
      "Enter any nubmer to check whether it is odd or even: 131\n",
      "Number is Odd\n"
     ]
    }
   ],
   "source": [
    "# 9. Python Program to check a given number is even or odd.\n",
    "def is_odd_or_even(num):\n",
    "    if num%2 == 0:\n",
    "        return 'Number is Even'\n",
    "    else:\n",
    "        return 'Number is Odd'\n",
    "\n",
    "print(is_odd_or_even(int(input('Enter any nubmer to check whether it is odd or even: '))))"
   ]
  },
  {
   "cell_type": "code",
   "execution_count": 10,
   "id": "4e187979",
   "metadata": {},
   "outputs": [
    {
     "name": "stdout",
     "output_type": "stream",
     "text": [
      "Enter any number to get prime numbers upto that number : 105\n",
      "2\n",
      "3\n",
      "5\n",
      "7\n",
      "11\n",
      "13\n",
      "17\n",
      "19\n",
      "23\n",
      "29\n",
      "31\n",
      "37\n",
      "41\n",
      "43\n",
      "47\n",
      "53\n",
      "59\n",
      "61\n",
      "67\n",
      "71\n",
      "73\n",
      "79\n",
      "83\n",
      "89\n",
      "97\n",
      "101\n",
      "103\n"
     ]
    }
   ],
   "source": [
    "# 10.Python program to print first n Prime Number with explanation.\n",
    "def get_prime_numbers(num):\n",
    "    for n in range(1,num+1):\n",
    "        if n > 1:\n",
    "            for i in range(2,n):\n",
    "                if n%i == 0:\n",
    "                    break\n",
    "            else:\n",
    "                print(n)\n",
    "\n",
    "\n",
    "n = int(input('Enter any number to get prime numbers upto that number : '))\n",
    "get_prime_numbers(n)"
   ]
  }
 ],
 "metadata": {
  "kernelspec": {
   "display_name": "Python 3 (ipykernel)",
   "language": "python",
   "name": "python3"
  },
  "language_info": {
   "codemirror_mode": {
    "name": "ipython",
    "version": 3
   },
   "file_extension": ".py",
   "mimetype": "text/x-python",
   "name": "python",
   "nbconvert_exporter": "python",
   "pygments_lexer": "ipython3",
   "version": "3.9.12"
  }
 },
 "nbformat": 4,
 "nbformat_minor": 5
}
