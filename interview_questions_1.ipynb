{
 "cells": [
  {
   "cell_type": "code",
   "execution_count": 1,
   "id": "1c2fd30f",
   "metadata": {},
   "outputs": [
    {
     "name": "stdout",
     "output_type": "stream",
     "text": [
      "123456\n",
      "Revesrse of number is : 654321\n"
     ]
    }
   ],
   "source": [
    "# 1. Write a program to reverse an integer in Python.\n",
    "\n",
    "num = int(input('Enter a number to get its reverse: '))\n",
    "reverse_num = 0\n",
    "while num>0:\n",
    "    last_digit = num % 10\n",
    "    reverse_num = reverse_num * 10 +last_digit\n",
    "    num = num // 10\n",
    "    \n",
    "print('Revesrse of number is :', reverse_num)"
   ]
  },
  {
   "cell_type": "code",
   "execution_count": 3,
   "id": "a9f3e910",
   "metadata": {},
   "outputs": [
    {
     "name": "stdout",
     "output_type": "stream",
     "text": [
      "789\n",
      "Given Number is Not Armstrong..\n"
     ]
    }
   ],
   "source": [
    "# 2. Write a program in Python to check whether an integer is Armstrong number or not.\n",
    "# a number is armstrong if cubes of each digit gives the same number, for e.g 153\n",
    "\n",
    "num = int(input('Enter any number to check if it is armstrong: '))\n",
    "temp = num\n",
    "res_num = 0\n",
    "while temp>0:\n",
    "    digit = temp%10\n",
    "    res_num = res_num + digit**3\n",
    "    temp = temp // 10\n",
    "\n",
    "if res_num == num:\n",
    "    print('Given Number is Armstrong..')\n",
    "else:\n",
    "    print('Given Number is Not Armstrong..')"
   ]
  },
  {
   "cell_type": "code",
   "execution_count": 15,
   "id": "84b07006",
   "metadata": {},
   "outputs": [
    {
     "name": "stdout",
     "output_type": "stream",
     "text": [
      "Enter a number to check whether it is prime or not: 51\n",
      "Number is Prime\n",
      "Not a prime Number\n"
     ]
    }
   ],
   "source": [
    "# 3. Write a program in Python to check given number is prime or not.\n",
    "num = int(input('Enter a number to check whether it is prime or not: '))\n",
    "\n",
    "if num < 0:\n",
    "    print('Please enter positive number ')\n",
    "elif num == 1:\n",
    "    print('1 is not prime or not composite')\n",
    "elif num >= 2:\n",
    "    for i in range(2, num):\n",
    "        if num%i == 0:\n",
    "            print('Not a prime Number')\n",
    "            break\n",
    "        print('Number is Prime')\n",
    "        \n"
   ]
  },
  {
   "cell_type": "code",
   "execution_count": 7,
   "id": "27411507",
   "metadata": {},
   "outputs": [
    {
     "name": "stdout",
     "output_type": "stream",
     "text": [
      "Enter number5\n",
      "Fibonacci series: \n",
      "0\n",
      "1\n",
      "1\n",
      "2\n",
      "3\n"
     ]
    }
   ],
   "source": [
    "# 4. Write a program in Python to print the Fibonacci series using iterative method.\n",
    "def fibo(num):\n",
    "    f = 0\n",
    "    s = 1\n",
    "    print('Fibonacci series: ')\n",
    "    for i in range(0,num):\n",
    "        if i <= 1:\n",
    "            res = i\n",
    "        else:\n",
    "            res = f + s\n",
    "            f = s\n",
    "            s = res\n",
    "        print(res)\n",
    "\n",
    "fibo(int(input('Enter number')))"
   ]
  },
  {
   "cell_type": "code",
   "execution_count": 10,
   "id": "6c5312f3",
   "metadata": {},
   "outputs": [
    {
     "name": "stdout",
     "output_type": "stream",
     "text": [
      "Enter number of terms: 5\n",
      "Fibonacci series: \n",
      "0\n",
      "1\n",
      "1\n",
      "2\n",
      "3\n"
     ]
    }
   ],
   "source": [
    "# 5. Write a program in Python to print the Fibonacci series using recursive method.\n",
    "\n",
    "def fibo(n):\n",
    "    if n <= 1:\n",
    "        return n\n",
    "    else:\n",
    "        return (fibo(n-1)+fibo(n-2))\n",
    "\n",
    "n = int(input('Enter number of terms: '))\n",
    "print('Fibonacci series: ')\n",
    "for i in range(n):\n",
    "    print(fibo(i))"
   ]
  },
  {
   "cell_type": "code",
   "execution_count": 17,
   "id": "8449061f",
   "metadata": {},
   "outputs": [
    {
     "name": "stdout",
     "output_type": "stream",
     "text": [
      "Enter a number to get its reverse: 154252451\n",
      "Number is palindrome\n"
     ]
    }
   ],
   "source": [
    "# 6. Write a program in Python to check whether a number is palindrome or not using iterative method.\n",
    "num = int(input('Enter a number to get its reverse: '))\n",
    "temp = num\n",
    "palindrome = 0\n",
    "while temp>0:\n",
    "    last_digit = temp % 10\n",
    "    palindrome = palindrome * 10 +last_digit\n",
    "    temp = temp // 10\n",
    "    \n",
    "if palindrome == num:\n",
    "    print('Number is palindrome')\n",
    "else:\n",
    "    print('Number is not palindrome')"
   ]
  },
  {
   "cell_type": "code",
   "execution_count": 2,
   "id": "d901b457",
   "metadata": {},
   "outputs": [
    {
     "name": "stdout",
     "output_type": "stream",
     "text": [
      "Enter a number to get its reverse: 121\n",
      "Palindrome\n"
     ]
    }
   ],
   "source": [
    "# 7. Write a program in Python to check whether a number is palindrome or not using recursive method.\n",
    "\n",
    "def palindrome(num, rev=0):\n",
    "    if num == 0:\n",
    "        return rev\n",
    "\n",
    "    rev = rev * 10 + (num % 10)\n",
    "    rev = palindrome(num // 10, rev)\n",
    "    return rev\n",
    "\n",
    "\n",
    "num = int(input('Enter a number to get its reverse: '))\n",
    "temp = palindrome(num)\n",
    "if num == temp:\n",
    "    print('Palindrome')\n",
    "else:\n",
    "    print('Not Palindorme')\n"
   ]
  },
  {
   "cell_type": "code",
   "execution_count": 3,
   "id": "6742b502",
   "metadata": {},
   "outputs": [
    {
     "name": "stdout",
     "output_type": "stream",
     "text": [
      "Enter 3 numbers seperated by space: 12 23 45\n",
      "45 is greatest number\n"
     ]
    }
   ],
   "source": [
    "# 8. Write a program in Python to find greatest among three integers.\n",
    "\n",
    "x,y,z = map(int,input('Enter 3 numbers seperated by space: ').split())\n",
    "if x>y and x>z:\n",
    "    print(f'{x} is greatest number')\n",
    "elif y>z and y>x:\n",
    "    print(f'{y} is greatest number')\n",
    "else:\n",
    "    print(f'{z} is greatest number')"
   ]
  },
  {
   "cell_type": "code",
   "execution_count": 10,
   "id": "f3181a97",
   "metadata": {},
   "outputs": [
    {
     "name": "stdout",
     "output_type": "stream",
     "text": [
      "enter binary number: 11011\n"
     ]
    },
    {
     "data": {
      "text/plain": [
       "'Number is Binary'"
      ]
     },
     "execution_count": 10,
     "metadata": {},
     "output_type": "execute_result"
    }
   ],
   "source": [
    "# 9. Write a program in Python to check if a number is binary?\n",
    "\n",
    "num = int(input('enter binary number: '))\n",
    "def check_binary(num):\n",
    "    if num == 0 or num == 1 or num < 0 :\n",
    "        return 'Not a Binary'\n",
    "    \n",
    "    while(num != 0):\n",
    "        if num%10 > 1:\n",
    "            return 'Not a Binary'\n",
    "        num //= 10\n",
    "    else:\n",
    "        return 'Number is Binary'\n",
    "    \n",
    "check_binary(num)        "
   ]
  },
  {
   "cell_type": "code",
   "execution_count": 2,
   "id": "426fff31",
   "metadata": {},
   "outputs": [
    {
     "name": "stdout",
     "output_type": "stream",
     "text": [
      "Enter any number: 456\n",
      "Sum of digits is:  15\n"
     ]
    }
   ],
   "source": [
    "# 10. Write a program in Python to find sum of digits of a number using recursion?\n",
    "\n",
    "def sum_of_digits(num):   \n",
    "    if num == 0:\n",
    "        return 0\n",
    "    return num%10 +sum_of_digits(num//10)\n",
    "    \n",
    "num = int(input('Enter any number: '))\n",
    "\n",
    "print('Sum of digits is: ', sum_of_digits(num))"
   ]
  },
  
 ],
 "metadata": {
  "kernelspec": {
   "display_name": "Python 3 (ipykernel)",
   "language": "python",
   "name": "python3"
  },
  "language_info": {
   "codemirror_mode": {
    "name": "ipython",
    "version": 3
   },
   "file_extension": ".py",
   "mimetype": "text/x-python",
   "name": "python",
   "nbconvert_exporter": "python",
   "pygments_lexer": "ipython3",
   "version": "3.9.12"
  }
 },
 "nbformat": 4,
 "nbformat_minor": 5
}
